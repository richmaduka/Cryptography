{
 "cells": [
  {
   "cell_type": "markdown",
   "metadata": {},
   "source": [
    "## Richard Maduka\n",
    "## VYD759"
   ]
  },
  {
   "cell_type": "markdown",
   "metadata": {},
   "source": [
    "## Principles of Cyber Security - Lab 2 "
   ]
  },
  {
   "cell_type": "markdown",
   "metadata": {},
   "source": [
    "#### Objective:\n",
    "\n",
    "Given a public key e, modulus, and ciphertext stored in the encrypted file flag.crypt. Find the lost private key (d) and decrypt the cipher text.\n",
    "\n",
    "#### Approach:\n",
    "\n",
    "Using Wienner Attack. Exploiting an RSA vulnerability that occurs when the d is sufficiently smaller than the modulus.\n",
    "\n",
    "### Values parsed from \"flag.crypt\""
   ]
  },
  {
   "cell_type": "markdown",
   "metadata": {},
   "source": [
    "ciphertext = \"14721492804243887128022544715390923826615922145618191212173208788209043344231659238879232199239196193389993910192352527129535594671427389528158659726889498456682098852362674139370468976955330998783025449205288119740596501940767727005906465471403856973831912543509808072362658859848407061942523723693709065394708504152485995865962846573892269019322559582685014731215508491136661452712951352872841667433705387345702422307233776669158205716965743734057827273645919254437844769402249424365851494214399944248848650765476995426883211695098872640688630088097029337535157407243880288306072093043563596486783289791102155803249\"\n",
    "\n",
    "e = \"7250165472363416912799555459612886275599780903492228488950041015247652331617899243658196335334494909251721179598242742175143803201603793231432556690686367988830761347132979360932948175478774395344962861217305035115880417342956206635833322656232093532770469287131759536834359617199443406271151920784149732428669034021254823084867222063949664928025069384722122181194667501323591416562731336280420194293594278106295984690543675675534699026544707398056323055113929707631139170989818038914347405663550247953422007115620880855532373987125408910381519389375055704790118072634911255371158227043141229989249637680805194835029\"\n",
    "\n",
    "n = \"15986222692848414665188057521638873965262221528519482704635018777922477258168095953715382275721511448625355782923192604874797511849672866689170867982691858354238233161940167192392757775145381814657259381366864181219118436694674644712528599209539634234106250355112965409022168617461542066836331095353224452149831873643933028666235543423538125598329810370970890080400056979292559842462227755659997009433313360701798701562351196908796082218372303669414875460607710370442947650704884714817114030682701096532032912549083765325368615204795111538293311257731405982408684457261402752738621217214227300966319043947825182662493\""
   ]
  },
  {
   "cell_type": "markdown",
   "metadata": {},
   "source": [
    "### Global Variable Definitions"
   ]
  },
  {
   "cell_type": "code",
   "execution_count": 20,
   "metadata": {},
   "outputs": [],
   "source": [
    "\n",
    "ciphertext = 14721492804243887128022544715390923826615922145618191212173208788209043344231659238879232199239196193389993910192352527129535594671427389528158659726889498456682098852362674139370468976955330998783025449205288119740596501940767727005906465471403856973831912543509808072362658859848407061942523723693709065394708504152485995865962846573892269019322559582685014731215508491136661452712951352872841667433705387345702422307233776669158205716965743734057827273645919254437844769402249424365851494214399944248848650765476995426883211695098872640688630088097029337535157407243880288306072093043563596486783289791102155803249\n",
    "\n",
    "e = 7250165472363416912799555459612886275599780903492228488950041015247652331617899243658196335334494909251721179598242742175143803201603793231432556690686367988830761347132979360932948175478774395344962861217305035115880417342956206635833322656232093532770469287131759536834359617199443406271151920784149732428669034021254823084867222063949664928025069384722122181194667501323591416562731336280420194293594278106295984690543675675534699026544707398056323055113929707631139170989818038914347405663550247953422007115620880855532373987125408910381519389375055704790118072634911255371158227043141229989249637680805194835029\n",
    "\n",
    "n = 15986222692848414665188057521638873965262221528519482704635018777922477258168095953715382275721511448625355782923192604874797511849672866689170867982691858354238233161940167192392757775145381814657259381366864181219118436694674644712528599209539634234106250355112965409022168617461542066836331095353224452149831873643933028666235543423538125598329810370970890080400056979292559842462227755659997009433313360701798701562351196908796082218372303669414875460607710370442947650704884714817114030682701096532032912549083765325368615204795111538293311257731405982408684457261402752738621217214227300966319043947825182662493\n"
   ]
  },
  {
   "cell_type": "markdown",
   "metadata": {},
   "source": [
    "### The problem with the RSA encryption:\n",
    "\n",
    "While encrypting sample digits I realized that the algorithm was creating d values that were much smaller than the modulus; called it n.\n",
    "\n",
    "Micheal J. Wiener showed that if d < 1/3(N^0.25), then it is possible to recover d given (N,e)\n",
    "\n",
    "Let N = p.q\n",
    "Assume q < p < 2q\n",
    "\n",
    "we know that e * d = 1 mod phi(n)\n",
    "\n",
    "The algorithm used a smaller d to speed up the decryption proccess.\n",
    "\n",
    "I took 3 samples of the keys produced by the decrypting some of random messages, Below are the values of d derived.\n",
    "\n",
    "\n",
    "d1 = 128457967770606906923689181001961015192504914877544541761258742167448118049106543247483466898971683573432172624295751891969840840617478247558614453457\n",
    "\n",
    "d2 = 148320417338597196663326020981011867467177842443888424327219146767942268823415061091614672598338928173362628110637241896074261003354214682161007701437\n",
    "\n",
    "d3 = \"23942542611217935873535888679248791332500771193558987715320203942161877108798685262967421267682529873921641251691507724803580538207826470163706614407\"\n",
    "\n",
    "The above values of d are smaller than 1/3(N^0.25). Hence, they meet the requirments for the iumplementation of Wieners theorem.\n",
    "\n",
    "Since e * d == 1 mod phi(n)\n",
    "e * d - k phi(n) = 1\n",
    "therefore, abs((e/phi(n)) -  k/d) = 1/d * phi(n)\n",
    "\n",
    "It is possible to compute continous fraction expansion of a/b using the Euclidean Algorithm.\n",
    "\n",
    "### Attacking the RSA algorithm\n",
    "\n",
    "Using the concepts outlined above, it is possible to attack an RSA algorithm that meets the theorem conditions. i.e that d is sufficiently small.\n",
    "\n",
    "### To solve this I will write an algorithm to compute some convergants of the flag given:  e/n"
   ]
  },
  {
   "cell_type": "markdown",
   "metadata": {},
   "source": [
    "### Finding the Private Key - d\n",
    "Applying wieners theorem and using some of the methods given in the RSA source code, I was able to run a wiener attack using the values of c and n in flag.crypt."
   ]
  },
  {
   "cell_type": "code",
   "execution_count": 21,
   "metadata": {},
   "outputs": [
    {
     "name": "stdout",
     "output_type": "stream",
     "text": [
      "Running Wiener Attack\n",
      "Found d! d= 133104455030384198891033642548250558931660333373828626903716402084724507833554084996931138042970091267564096961333851611996320817706712200430316160129\n"
     ]
    }
   ],
   "source": [
    "d = 0 # final d val\n",
    "\n",
    "\n",
    "# SOME FUNCTIONS FROM RSA FUNCTIONS GIVEN\n",
    "    \n",
    "def egcd(a, b):\n",
    "    \"\"\"return a tuple of three values: x, y and z, such that x is\n",
    "    the GCD of a and b, and x = y * a + z * b\"\"\"\n",
    "    if a == 0:\n",
    "        return (b, 0, 1)\n",
    "    else:\n",
    "        g, y, x = egcd(b % a, a)\n",
    "        return (g, x - (b // a) * y, y)\n",
    "    \n",
    "\n",
    "####Modular Arithmetics####\n",
    "def gcd(x, y):\n",
    "    \"\"\"returns the Greatest Common Divisor of x and y\"\"\"\n",
    "    while y != 0:\n",
    "        (x, y) = (y, x % y)\n",
    "    return x\n",
    "\n",
    "\n",
    "def modInv(a, m):\n",
    "    \"\"\"returns the multiplicative inverse of a in modulo m as a\n",
    "    positive value between zero and m-1\"\"\"\n",
    "    g, x, y = egcd(a, m)\n",
    "    if g != 1:\n",
    "        raise Exception('modular inverse does not exist')\n",
    "    else:\n",
    "        return x % m\n",
    "\n",
    "def totient(p,q):\n",
    "    '''\n",
    "    Calculates the totient of pq\n",
    "    '''\n",
    "    return (p-1)*(q-1)\n",
    "\n",
    "def bitlength(x):\n",
    "    '''\n",
    "    Calculates the bitlength of x\n",
    "    '''\n",
    "    assert x >= 0\n",
    "    n = 0\n",
    "    while x > 0:\n",
    "        n = n+1\n",
    "        x = x>>1\n",
    "    return n\n",
    "\n",
    "def isqrt(n):\n",
    "    '''\n",
    "    Calculates the integer square root large nonnegative integers\n",
    "    '''\n",
    "    if n < 0:\n",
    "        raise ValueError('square root not defined for negative numbers')\n",
    "    \n",
    "    if n == 0:\n",
    "        return 0\n",
    "    a, b = divmod(bitlength(n), 2)\n",
    "    x = 2**(a+b)\n",
    "    while True:\n",
    "        y = (x + n//x)//2\n",
    "        if y >= x:\n",
    "            return x\n",
    "        x = y\n",
    "\n",
    "#  Converts a rational x/y fraction into a list of partial quotients [a0, ..., an]\n",
    "def rational_to_contfrac(x,y):\n",
    "    a = x//y\n",
    "    pquotients = [a]\n",
    "    while a * y != x:\n",
    "        x,y = y,x-a*y\n",
    "        a = x//y\n",
    "        pquotients.append(a)\n",
    "    return pquotients\n",
    "\n",
    "# computes the list of convergents using the list of partial quotients\n",
    "def convergents_from_contfrac(frac):\n",
    "    convs = [];\n",
    "    for i in range(len(frac)):\n",
    "        convs.append(contfrac_to_rational(frac[0:i]))\n",
    "    return convs\n",
    "\n",
    "\n",
    "# Converts a finite continued fraction to an x/y rational.'''\n",
    "def contfrac_to_rational (frac):\n",
    "   \n",
    "    if len(frac) == 0:\n",
    "        return (0,1)\n",
    "    num = frac[-1]\n",
    "    denom = 1\n",
    "    for _ in range(-2,-len(frac)-1,-1):\n",
    "        num, denom = frac[_]*num+denom, num\n",
    "    return (num,denom)\n",
    "\n",
    "#   Wiener continued fraction attack\n",
    "def RSA_crack(e,n):\n",
    "    '''\n",
    "    Finds d by continous fraction using (e,n)\n",
    "    '''\n",
    "    frac = rational_to_contfrac(e, n)\n",
    "    convergents = convergents_from_contfrac(frac)\n",
    "\n",
    "    for (k,d) in convergents:\n",
    "\n",
    "        #check if d is actually the key\n",
    "        if k!=0 and (e*d-1)%k == 0:\n",
    "            phi = (e*d-1)//k\n",
    "            s = n - phi + 1\n",
    "            # check if the equation x^2 - s*x + n = 0\n",
    "            sol = s**2 - 4*n \n",
    "            if(sol >= 0):\n",
    "                t = is_perfect_square(sol)\n",
    "                if t!=-1 and (s+t)%2==0:\n",
    "                    print(\"Found d! d=\", d)\n",
    "                    return d\n",
    "\n",
    "# TEST functions\n",
    "\n",
    "def is_perfect_square(n):\n",
    "    '''\n",
    "    If n is a perfect square it returns sqrt(n),\n",
    "    \n",
    "    otherwise returns -1\n",
    "    '''\n",
    "    hexd = n & 0xF; #last hex digit\n",
    "    \n",
    "    if hexd > 9:\n",
    "        return -1\n",
    "\n",
    "    if (hexd != 2 and hexd != 3 and hexd != 5 and hexd != 6 and hexd != 7 and hexd != 8 ):\n",
    "        t = isqrt(n)\n",
    "        if t*t == n:\n",
    "            return t\n",
    "        else:\n",
    "            return -1\n",
    "    \n",
    "    return -1\n",
    "\n",
    "def wiener_attack_RSA():\n",
    "    print(\"Running Wiener Attack\")\n",
    "\n",
    "    d = RSA_crack(e, n)\n",
    "    \n",
    "wiener_attack_RSA()\n",
    "\n"
   ]
  },
  {
   "cell_type": "code",
   "execution_count": 22,
   "metadata": {},
   "outputs": [],
   "source": [
    "d = 133104455030384198891033642548250558931660333373828626903716402084724507833554084996931138042970091267564096961333851611996320817706712200430316160129"
   ]
  },
  {
   "cell_type": "code",
   "execution_count": 23,
   "metadata": {},
   "outputs": [],
   "source": [
    "def int2baseTwo(x):\n",
    "    \"\"\"x is a positive integer. Convert it to base two as a list of integers\n",
    "    in reverse order as a list.\"\"\"\n",
    "    assert x >= 0\n",
    "    bitInverse = []\n",
    "    while x != 0:\n",
    "        bitInverse.append(x & 1)\n",
    "        x >>= 1\n",
    "    return bitInverse\n",
    "\n",
    "\n",
    "def modExp(a, d, n):\n",
    "    \"\"\"returns a ** d (mod n)\"\"\"\n",
    "    assert d >= 0\n",
    "    assert n >= 0\n",
    "    base2D = int2baseTwo(d)\n",
    "    base2DLength = len(base2D)\n",
    "    modArray = []\n",
    "    result = 1\n",
    "    for i in range(1, base2DLength + 1):\n",
    "        if i == 1:\n",
    "            modArray.append(a % n)\n",
    "        else:\n",
    "            modArray.append((modArray[i - 2] ** 2) % n)\n",
    "    for i in range(0, base2DLength):\n",
    "        if base2D[i] == 1:\n",
    "            result *= base2D[i] * modArray[i]\n",
    "    return result % n\n",
    "\n"
   ]
  },
  {
   "cell_type": "markdown",
   "metadata": {},
   "source": [
    "### DECRYPTION OF CIPHER TEXT\n",
    "\n",
    "I used the same steps and methods as the RSA source code given and passed in the d value gotten."
   ]
  },
  {
   "cell_type": "code",
   "execution_count": 24,
   "metadata": {},
   "outputs": [
    {
     "name": "stdout",
     "output_type": "stream",
     "text": [
      "Roadrunners_for_Continued_Fraction_mUJ9Su6J6JLNkxcwDVHr\n"
     ]
    }
   ],
   "source": [
    "msgNum = modExp(ciphertext, d, n)\n",
    "msg = ''.join([chr(int(hex(msgNum)[i:i+2], 16)) for i in range(2,len(hex(msgNum))-1,2)])\n",
    "print(msg)"
   ]
  },
  {
   "cell_type": "markdown",
   "metadata": {},
   "source": [
    "The cipher text decrypted to \"Roadrunners_for_Continued_Fraction_mUJ9Su6J6JLNkxcwDVHr\". Although the last few values of the plain text seem a bit erroneous."
   ]
  }
 ],
 "metadata": {
  "kernelspec": {
   "display_name": "Python 3",
   "language": "python",
   "name": "python3"
  },
  "language_info": {
   "codemirror_mode": {
    "name": "ipython",
    "version": 3
   },
   "file_extension": ".py",
   "mimetype": "text/x-python",
   "name": "python",
   "nbconvert_exporter": "python",
   "pygments_lexer": "ipython3",
   "version": "3.8.5"
  }
 },
 "nbformat": 4,
 "nbformat_minor": 4
}
